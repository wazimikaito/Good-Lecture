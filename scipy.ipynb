{
  "nbformat": 4,
  "nbformat_minor": 0,
  "metadata": {
    "colab": {
      "name": "scipy.ipynb",
      "provenance": [],
      "collapsed_sections": [],
      "toc_visible": true,
      "authorship_tag": "ABX9TyOSKEU1X0n/WYc0Tu94WDA4",
      "include_colab_link": true
    },
    "kernelspec": {
      "name": "python3",
      "display_name": "Python 3"
    },
    "language_info": {
      "name": "python"
    }
  },
  "cells": [
    {
      "cell_type": "markdown",
      "metadata": {
        "id": "view-in-github",
        "colab_type": "text"
      },
      "source": [
        "<a href=\"https://colab.research.google.com/github/wazimikaito/Good-Lecture/blob/master/scipy.ipynb\" target=\"_parent\"><img src=\"https://colab.research.google.com/assets/colab-badge.svg\" alt=\"Open In Colab\"/></a>"
      ]
    },
    {
      "cell_type": "code",
      "execution_count": null,
      "metadata": {
        "id": "D5LbifJ2Padv",
        "colab": {
          "base_uri": "https://localhost:8080/"
        },
        "outputId": "0a02edbe-722d-4db1-85ed-ad9e122a86bc"
      },
      "outputs": [
        {
          "output_type": "execute_result",
          "data": {
            "text/plain": [
              "(array([ 3.73937863e-07,  0.00000000e+00, -1.49575145e-06,  0.00000000e+00,\n",
              "         2.24362718e-06,  0.00000000e+00, -1.49575145e-06,  0.00000000e+00,\n",
              "         3.73937863e-07]),\n",
              " array([  1.        ,  -7.48590133,  24.8850657 , -47.95006309,\n",
              "         58.55540317, -46.40080436,  23.30299251,  -6.78350528,\n",
              "          0.87689656]))"
            ]
          },
          "metadata": {},
          "execution_count": 3
        }
      ],
      "source": [
        "from scipy import signal as sig\n",
        "sig.iirfilter(N = 2, Wn = [x/250, y/250], btype = 'bandpass', ftype= 'butter')\n",
        "# Nは1, 2くらいでいいと思う．↑x, yには25が平均になるような値を入れる．"
      ]
    },
    {
      "cell_type": "code",
      "source": [
        "from scipy import signal\n",
        "import matplotlib.pyplot as plt\n",
        "g = signal.lti([1, -3.73782659, 5.42284455, -3.60726556, 0.93138168], [0.00060985, 0, -0.00060985, 0, 0.00060985])\n",
        "\n",
        "w, mag, phase = g.bode()\n",
        "\n",
        "plt.subplot(2, 1, 1) # 2 行 1 列に並べたグラフの 1 つめ\n",
        "plt.semilogx(w, mag) # 横軸対数でゲインをプロット\n",
        "\n",
        "\n",
        "plt.subplot(2, 1, 2) # 2 行 1 列に並べたグラフの 2 つめ\n",
        "plt.semilogx(w, phase) # 横軸対数で位相をプロット\n",
        "\n",
        "\n",
        "plt.show() # colab では不要"
      ],
      "metadata": {
        "colab": {
          "base_uri": "https://localhost:8080/",
          "height": 269
        },
        "id": "G6qoknY0NCEU",
        "outputId": "2d2b5533-7aa3-43e6-a541-f851574aaf72"
      },
      "execution_count": null,
      "outputs": [
        {
          "output_type": "display_data",
          "data": {
            "text/plain": [
              "<Figure size 432x288 with 2 Axes>"
            ],
            "image/png": "[encoded data removed]"
          },
          "metadata": {
            "needs_background": "light"
          }
        }
      ]
    },
    {
      "cell_type": "code",
      "source": [
        "%%writefile bpf.py\n",
        "\n",
        "y1, y2, y3, y4 = 0, 0, 0, 0\n",
        "u1, u2, u3, u4 = 0, 0, 0, 0\n",
        "\n",
        "def myfilter(u0):\n",
        "    global u1, u2, u3, u4, y1, y2, y3, y4\n",
        "    y0 = 3.73782659*y1 - 5.42284455*y2 + 3.60726556*y3 - 0.93138168*y4 + 0.00060985*u0 - 0.00121971*u2 + 0.00060985*u4\n",
        "    u1, u2, u3, u4=u0, u1, u2, u3\n",
        "    y1, y2, y3, y4=y0, y1, y2, y3\n",
        "    return y0\n",
        "\n",
        "try:\n",
        "    while True:\n",
        "        u = float(input())\n",
        "        y = myfilter(u)\n",
        "        print(u,y)\n",
        "except:\n",
        "    pass\n"
      ],
      "metadata": {
        "colab": {
          "base_uri": "https://localhost:8080/"
        },
        "id": "k5n5yq2Wug5C",
        "outputId": "bcfe3141-7b98-4b66-a4c1-f2ad9f4783c8"
      },
      "execution_count": null,
      "outputs": [
        {
          "output_type": "stream",
          "name": "stdout",
          "text": [
            "Overwriting bpf.py\n"
          ]
        }
      ]
    },
    {
      "cell_type": "code",
      "source": [
        "!python3 bpf.py < u.txt"
      ],
      "metadata": {
        "colab": {
          "base_uri": "https://localhost:8080/"
        },
        "id": "gKIhbAEI0zyv",
        "outputId": "e5e2374e-91a2-4a90-b695-fd71bc66df99"
      },
      "execution_count": null,
      "outputs": [
        {
          "output_type": "stream",
          "name": "stdout",
          "text": [
            "0.0 0.0\n",
            "1.817068536 0.0011081392466796\n",
            "3.246102262 0.006121667806142279\n",
            "3.990478494 0.01708976247196934\n",
            "3.914227561 0.03310685651338552\n",
            "3.072372751 0.05023754340370525\n",
            "1.69518077 0.0624308104460706\n",
            "0.1304226279 0.06319901426812298\n",
            "-1.242000802 0.0476214448658571\n",
            "-2.102017963 0.014129150699125416\n",
            "-2.265384297 -0.03443552092103827\n",
            "-1.725234322 -0.09082214328737848\n",
            "-0.6493078079 -0.14451539047632786\n",
            "0.6660212945 -0.1838082622290152\n",
            "1.873098044 -0.19835315716948138\n",
            "2.662186543 -0.18160233508509868\n",
            "2.840133161 -0.13255448794349267\n",
            "2.378829414 -0.05637151442130057\n",
            "1.421415458 0.03631510503105496\n",
            "0.2447597908 0.13128669291711997\n",
            "-0.8122992406 0.2134104813018696\n",
            "-1.436881002 0.2695215791884824\n",
            "-1.424007682 0.29088499078074787\n",
            "-0.7318520808 0.27470980998888883\n",
            "0.5038222224 0.2244115947572819\n",
            "2.0 0.14861104342418197\n",
            "3.394344267 0.05914649402260154\n",
            "4.334115472 -0.031405295817871576\n",
            "4.564152688 -0.11211255304052395\n",
            "3.992081313 -0.17543983016268436\n",
            "2.714412273 -0.21801143535823672\n",
            "0.9967591922 -0.24029359498677097\n",
            "-0.7873318579 -0.24537964548654442\n",
            "-2.244250043 -0.23728529252286779\n",
            "-3.053590343 -0.21927308636705584\n",
            "-3.044152555 -0.19269927806031745\n",
            "-2.234184591 -0.1567197583306956\n",
            "-0.8261180284 -0.10894560900155126\n",
            "0.8428315151 -0.046866614457031414\n",
            "2.382048313 0.030366455004923028\n",
            "3.440954801 0.12033301507070512\n",
            "3.791705542 0.21642415385304542\n",
            "3.381078655 0.3079782800932814\n",
            "2.339169944 0.3815796961695706\n",
            "0.9431813683 0.4233335576312889\n",
            "-0.4543387625 0.4216681875480984\n",
            "-1.514734754 0.370052238293704\n",
            "-1.997681876 0.2689927056232376\n",
            "-1.819865291 0.12680922596767882\n",
            "-1.073453508 -0.04106719287791986\n",
            "0.0 -0.21420457104376123\n",
            "1.073453508 -0.37031320150472136\n",
            "1.819865291 -0.4888165009783011\n",
            "1.997681876 -0.5541495905477548\n",
            "1.514734754 -0.5581469679700235\n",
            "0.4543387625 -0.5010823568595063\n",
            "-0.9431813683 -0.39121760450873366\n",
            "-2.339169944 -0.24303381300340768\n",
            "-3.381078655 -0.07458304402837898\n",
            "-3.791705542 0.09544705516086179\n",
            "-3.440954801 0.2503524707228606\n",
            "-2.382048313 0.3772415202284622\n",
            "-0.8428315151 0.4678300248184246\n",
            "0.8261180284 0.5182324358774241\n",
            "2.234184591 0.5280221783730273\n",
            "3.044152555 0.498988853338184\n",
            "3.053590343 0.43404848938119545\n",
            "2.244250043 0.33666250398131986\n",
            "0.7873318579 0.21092187319030312\n",
            "-0.9967591922 0.06221132033264602\n",
            "-2.714412273 -0.101848627248006\n",
            "-3.992081313 -0.27061506378354083\n",
            "-4.564152688 -0.4302314215802195\n",
            "-4.334115472 -0.5643464055166982\n",
            "-3.394344267 -0.655829817308659\n",
            "-2.0 -0.689296284145356\n",
            "-0.5038222224 -0.6539951059101619\n",
            "0.7318520808 -0.5464615290436108\n",
            "1.424007682 -0.37229860001763576\n",
            "1.436881002 -0.14658383824250498\n",
            "0.8122992406 0.10735092100133632\n",
            "-0.2447597908 0.3606893095135151\n",
            "-1.421415458 0.5830428105011078\n",
            "-2.378829414 0.746843734271676\n",
            "-2.840133161 0.8314363242413825\n",
            "-2.662186543 0.8261268426208915\n",
            "-1.873098044 0.7316522082188739\n",
            "-0.6660212945 0.5598368715866032\n",
            "0.6493078079 0.33155986351021366\n",
            "1.725234322 0.07347030458647562\n",
            "2.265384297 -0.18589826900546855\n",
            "2.102017963 -0.4198994059894045\n",
            "1.242000802 -0.6068053305060187\n",
            "-0.1304226279 -0.7316884695821648\n",
            "-1.69518077 -0.7870272037270077\n",
            "-3.072372751 -0.7721924288340246\n",
            "-3.914227561 -0.6921844880249557\n",
            "-3.990478494 -0.5560866988039052\n",
            "-3.246102262 -0.37566642462528993\n",
            "-1.817068536 -0.16440620941129208\n",
            "0.0 0.0629664883677147\n",
            "1.817068536 0.2905983819516027\n",
            "3.246102262 0.5015808494197707\n",
            "3.990478494 0.6783233180366985\n",
            "3.914227561 0.8035074486884353\n",
            "3.072372751 0.8617215123425463\n",
            "1.69518077 0.8416379414734313\n",
            "0.1304226279 0.7383674330698536\n",
            "-1.242000802 0.5554659454105619\n",
            "-2.102017963 0.30603619376739044\n",
            "-2.265384297 0.012473142020369568\n",
            "-1.725234322 -0.29536173278917754\n",
            "-0.6493078079 -0.5834381349179366\n",
            "0.6660212945 -0.8179038370521312\n",
            "1.873098044 -0.9698011309417381\n",
            "2.662186543 -1.0193458251722118\n",
            "2.840133161 -0.9589984663106733\n",
            "2.378829414 -0.7947557777517786\n",
            "1.421415458 -0.5454107341752292\n",
            "0.2447597908 -0.23990449997766272\n",
            "-0.8122992406 0.08675762509940996\n",
            "-1.436881002 0.3983052935083295\n",
            "-1.424007682 0.6618985166385707\n",
            "-0.7318520808 0.8519701594465539\n",
            "0.5038222224 0.9526812089799646\n",
            "2.0 0.9587609540884081\n",
            "3.394344267 0.8748296403074107\n",
            "4.334115472 0.713572013356565\n",
            "4.564152688 0.49328943216937154\n",
            "3.992081313 0.23537860348272868\n",
            "2.714412273 -0.03782557523893757\n",
            "0.9967591922 -0.3046070864018793\n",
            "-0.7873318579 -0.5448213642865606\n",
            "-2.244250043 -0.740434960093287\n",
            "-3.053590343 -0.8759510514593633\n",
            "-3.044152555 -0.9390105962045098\n",
            "-2.234184591 -0.9213394598362742\n",
            "-0.8261180284 -0.820018621140601\n",
            "0.8428315151 -0.6388457341627047\n",
            "2.382048313 -0.3893960572678074\n",
            "3.440954801 -0.09133212696309176\n",
            "3.791705542 0.22841789565081289\n",
            "3.381078655 0.5377996221374157\n",
            "2.339169944 0.8029985588400627\n",
            "0.9431813683 0.992644423178388\n",
            "-0.4543387625 1.0822203567897797\n",
            "-1.514734754 1.0579157380722863\n",
            "-1.997681876 0.9191891243472626\n",
            "-1.819865291 0.6794952379721991\n",
            "-1.073453508 0.36494329662292463\n",
            "0.0 0.011029590835522535\n",
            "1.073453508 -0.34205454869196983\n",
            "1.819865291 -0.6547743749162441\n",
            "1.997681876 -0.893384922695152\n",
            "1.514734754 -1.034028567545169\n",
            "0.4543387625 -1.0651984959387062\n",
            "-0.9431813683 -0.9882957772586624\n",
            "-2.339169944 -0.8163680842583555\n",
            "-3.381078655 -0.5714343297096685\n",
            "-3.791705542 -0.2810063553890821\n",
            "-3.440954801 0.025520890151855102\n",
            "-2.382048313 0.3200268913112784\n",
            "-0.8428315151 0.5779891372288014\n",
            "0.8261180284 0.7798487265451352\n",
            "2.234184591 0.9115384184486592\n",
            "3.044152555 0.9644634066706762\n",
            "3.053590343 0.9352819555416241\n",
            "2.244250043 0.8257704410989031\n",
            "0.7873318579 0.6429016809865215\n",
            "-0.9967591922 0.3990683696164855\n",
            "-2.714412273 0.11220781107847991\n",
            "-3.992081313 -0.1945129195792479\n",
            "-4.564152688 -0.49377483997509614\n",
            "-4.334115472 -0.7561348489645559\n",
            "-3.394344267 -0.9529632820647852\n",
            "-2.0 -1.0599888618465405\n",
            "-0.5038222224 -1.0609197606598155\n",
            "0.7318520808 -0.9504781704563143\n",
            "1.424007682 -0.7361955021230685\n",
            "1.436881002 -0.4384769297670909\n",
            "0.8122992406 -0.08873165325299819\n",
            "-0.2447597908 0.2742784460580687\n",
            "-1.421415458 0.6093703183287562\n",
            "-2.378829414 0.8783860339692136\n",
            "-2.840133161 1.0512694330973742\n",
            "-2.662186543 1.109943246698615\n",
            "-1.873098044 1.0503749827008988\n",
            "-0.6660212945 0.8825554072712029\n",
            "0.6493078079 0.6284943362639451\n",
            "1.725234322 0.318683708246978\n",
            "2.265384297 -0.012283669661177521\n",
            "2.102017963 -0.330164944567191\n",
            "1.242000802 -0.6048879206257384\n",
            "-0.1304226279 -0.8132508659503377\n",
            "-1.69518077 -0.9402965383117909\n",
            "-3.072372751 -0.9794468532543253\n",
            "-3.914227561 -0.931712874628606\n",
            "-3.990478494 -0.8044112156774045\n",
            "-3.246102262 -0.609804697910978\n",
            "-1.817068536 -0.3639587457100847\n",
            "0.0 -0.08591095497696441\n",
            "1.817068536 0.2029486756827248\n",
            "3.246102262 0.4795337857057349\n",
            "3.990478494 0.7200450514723553\n",
            "3.914227561 0.90149980913892\n",
            "3.072372751 1.0038552051145755\n",
            "1.69518077 1.0125473032080565\n",
            "0.1304226279 0.9210536774376178\n",
            "-1.242000802 0.7329462319576608\n",
            "-2.102017963 0.46288236030253693\n",
            "-2.265384297 0.13610485833409097\n",
            "-1.725234322 -0.21373229151978146\n",
            "-0.6493078079 -0.5482731305242146\n",
            "0.6660212945 -0.8292381330059866\n",
            "1.873098044 -1.0235503596326316\n",
            "2.662186543 -1.1079656532038018\n",
            "2.840133161 -1.0724081603658848\n",
            "2.378829414 -0.9214211822181725\n",
            "1.421415458 -0.673475116372998\n",
            "0.2447597908 -0.35826015392640337\n",
            "-0.8122992406 -0.012450088054408209\n",
            "-1.436881002 0.32531998017161073\n",
            "-1.424007682 0.6194166234821975\n",
            "-0.7318520808 0.8413339391373401\n",
            "0.5038222224 0.9724204040286146\n",
            "2.0 1.0049549251871628\n",
            "3.394344267 0.9416512932946328\n",
            "4.334115472 0.7939479394857812\n",
            "4.564152688 0.5796064657051967\n",
            "3.992081313 0.3201697827170828\n",
            "2.714412273 0.03872614097818041\n",
            "0.9967591922 -0.24177163300913004\n",
            "-0.7873318579 -0.4996111959449221\n",
            "-2.244250043 -0.7150246682007542\n",
            "-3.053590343 -0.8707742008463626\n",
            "-3.044152555 -0.9528951961580147\n",
            "-2.234184591 -0.9517571945965082\n",
            "-0.8261180284 -0.8634132171747916\n",
            "0.8428315151 -0.6910036249614312\n",
            "2.382048313 -0.4458240447531255\n",
            "3.440954801 -0.14761133600999873\n",
            "3.791705542 0.1763257446100998\n",
            "3.381078655 0.4933097649869476\n",
            "2.339169944 0.7687327664107958\n",
            "0.9431813683 0.9703336143632453\n",
            "-0.4543387625 1.072675433765523\n",
            "-1.514734754 1.061057743961566\n",
            "-1.997681876 0.9341275503731011\n",
            "-1.819865291 0.7046426809697316\n",
            "-1.073453508 0.3981553316453333\n",
            "0.0 0.0497602072445766\n"
          ]
        }
      ]
    },
    {
      "cell_type": "code",
      "source": [
        "%%writefile bpf.py\n",
        "u1,u2,u3,u4,y1,y2,y3,y4=0,0,0,0,0,0,0,0 #初期化する\n",
        "def myfilter(u0):\n",
        " global u1,u2,u3,u4,y1,y2,y3,y4 #グローバル変数(値を保持する変数)を定義\n",
        " y0=0.00060985*u0+-0.00121971*u2+0.00060985*u4+3.73782659*y1-5.42284455*y2+3.60726556*y3-0.93138168*y4 # この部分で差分方程式からy0 を求める。\n",
        " u1,u2,u3,u4=u0,u1,u2,u3 #過去のデータを代入u0→u1、u1→u2\n",
        " y1,y2,y3,y4=y0,y1,y2,y3\n",
        " return y0\n",
        "\n",
        "try:\n",
        " while True:\n",
        "   u = float(input())\n",
        "   y = myfilter(u)\n",
        "   print(u)\n",
        "except: pass"
      ],
      "metadata": {
        "colab": {
          "base_uri": "https://localhost:8080/"
        },
        "id": "S-2br8-FG3gl",
        "outputId": "409c8f75-b6d9-4fc0-9e3d-7b4bb3d311ba"
      },
      "execution_count": null,
      "outputs": [
        {
          "output_type": "stream",
          "name": "stdout",
          "text": [
            "Overwriting bpf.py\n"
          ]
        }
      ]
    }
  ]
}